{
 "cells": [
  {
   "cell_type": "markdown",
   "metadata": {},
   "source": [
    "## 지도 표시하기\n",
    "\n",
    "- Folium 라이브러리\n",
    "    - Javascrip로 만들어진 leaf.js 라이브러리를 Python에 쓸 수 있도록 변환(Wrapping)한 것\n",
    "    - https://leafletjs.com/ 참조\n",
    "    - https://python-visualization.github.io/folium/latest/\n",
    "\n",
    "- Folium 설치\n",
    "     ```shell\n",
    "     > pip install folium\n",
    "     ```\n",
    "     - 노트북에서 실행시는 pip 앞에 ! 추가"
   ]
  },
  {
   "cell_type": "code",
   "execution_count": null,
   "metadata": {},
   "outputs": [],
   "source": [
    "# !pip install folium"
   ]
  },
  {
   "cell_type": "markdown",
   "metadata": {},
   "source": [
    "- Folium 모듈 추가\n",
    "    ```python\n",
    "    import folium\n",
    "    ```"
   ]
  },
  {
   "cell_type": "code",
   "execution_count": 3,
   "metadata": {},
   "outputs": [],
   "source": [
    "import folium"
   ]
  },
  {
   "cell_type": "code",
   "execution_count": 4,
   "metadata": {},
   "outputs": [],
   "source": [
    "# 지도표시, 지도 확인시 구글맵 참조\n",
    "# https://map.google.com\n",
    "map = folium.Map(location=[35.159655, 129.185896])"
   ]
  },
  {
   "cell_type": "code",
   "execution_count": null,
   "metadata": {},
   "outputs": [],
   "source": [
    "map"
   ]
  },
  {
   "cell_type": "code",
   "execution_count": null,
   "metadata": {},
   "outputs": [],
   "source": [
    "# 줌값 필요, 위경도는 소수점 넷째자리까지는 정확히 일치해야한다\n",
    "map = folium.Map(location=[35.159655, 129.185896], zoom_start=15, zoom_control=True)\n",
    "map"
   ]
  },
  {
   "cell_type": "code",
   "execution_count": null,
   "metadata": {},
   "outputs": [],
   "source": [
    "map.save('mymap.html')\n",
    "map"
   ]
  },
  {
   "cell_type": "markdown",
   "metadata": {},
   "source": [
    "- 지도 타일셋 지정\n",
    "  - OpenStreetMap(기본), OpenStreetMap.HOT, OpenStreetMap.BZH, OpenTpopMap(속도가 느림) \n",
    "  - cartodb positron,CartoDB Voyager, CartoDB VoyagerLabelsUnder, CartoDB Dark_matter(cartdb 그룹)"
   ]
  },
  {
   "cell_type": "code",
   "execution_count": null,
   "metadata": {},
   "outputs": [],
   "source": [
    "# 타일셋 지정\n",
    "map = folium.Map(location=[35.159655, 129.185896],tiles='Stadia.StamenWatercolor',zoom_start=16)\n",
    "map"
   ]
  },
  {
   "cell_type": "markdown",
   "metadata": {},
   "source": [
    "- 지도 마커표시\n",
    "  - Maker() 클래스로 생성한 뒤 지도에 추가, 마커 아이콘 추가 https://getbootstrap.com/docs/3.3/components/"
   ]
  },
  {
   "cell_type": "code",
   "execution_count": null,
   "metadata": {},
   "outputs": [],
   "source": [
    "# 마커\n",
    "map = folium.Map(location=[35.159655, 129.185896],tiles='OpenStreetMap' ,zoom_start=15, zoom_control=True)\n",
    "\n",
    "folium.Marker(location=[35.159655, 129.185896],tooltip='해운대 달 맞이공원',popup='산책하러 오세요').add_to(map)\n",
    "popup = folium.Popup('<pre><a href=\"https://korean.visitkorea.or.kr/detail/ms_detail.do?cotid=d24fc1d9-56ee-4cec-b8c5-8ba1f20101ee&utm_source=googlemap\"> 물에</a> 빠지지 마세요</pre>', min_width=200,max_width=300)\n",
    "folium.Marker(location=[35.160762, 129.195896],tooltip='어딘지 몰라요',popup=popup, icon=folium.Icon(icon='pushpin',color='red')).add_to(map)                   \n",
    "map"
   ]
  }
 ],
 "metadata": {
  "kernelspec": {
   "display_name": "Python 3",
   "language": "python",
   "name": "python3"
  },
  "language_info": {
   "codemirror_mode": {
    "name": "ipython",
    "version": 3
   },
   "file_extension": ".py",
   "mimetype": "text/x-python",
   "name": "python",
   "nbconvert_exporter": "python",
   "pygments_lexer": "ipython3",
   "version": "3.12.2"
  }
 },
 "nbformat": 4,
 "nbformat_minor": 2
}
