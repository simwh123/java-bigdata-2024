{
 "cells": [
  {
   "cell_type": "markdown",
   "metadata": {},
   "source": [
    "## 주피터 노트북 시작\n",
    "\n",
    "- 주피터 노트북 사용법 학습\n",
    "  1. VS Code > Ctrl + Shift + P(명령 팔레트) > Creat : 새 Jupter Notebook 선택\n",
    "  2. 반드시 최초 저장\n",
    "  3. 마크다운  셀, 코드 셀 확인\n",
    "  4. 노트북을 새로 열면 '__모두 실행__' 눌러서 전체 코드셀 다 실행할 것"
   ]
  },
  {
   "cell_type": "code",
   "execution_count": 17,
   "metadata": {},
   "outputs": [
    {
     "name": "stdout",
     "output_type": "stream",
     "text": [
      "Hello , JupterNotebook !!\n"
     ]
    }
   ],
   "source": [
    "print('Hello , JupterNotebook !!')"
   ]
  },
  {
   "cell_type": "markdown",
   "metadata": {},
   "source": [
    "### 주피터 노트북 단축키\n",
    "- 필수 단축키\n",
    "    - Ctrl + Enter : 마크다운 셀은 닫기, 코드 셀은 실행\n",
    "    - Shift + Enter : Ctrl + Enter 기능 + 현재와 같은 셀을 추가(단, 마지막 셀에서만 동작)\n",
    "    - b : (현재 셀 위치) 뒤쪽에 코드 셀 추가\n",
    "    - a : (현재 셀 위치) 앞쪽에 코드 셀 추가\n",
    "    - Shift + L : (셀 밖에서)라인넘버 토클\n",
    "    - Ctrl + / : 주석 토글\n",
    "- 옵션 단축키\n",
    "    - m : 코드셀을 마크다운셀로 변경\n",
    "    - y : 마크다운셀을 코드셀로 변경\n",
    "\n",
    "### 디버깅\n",
    "- 디버깅 하는 방법은 .py와 동일\n",
    "  - 디버그 실행시 Ctrl + Shift + Alt + Enter(플레이버튼 옆 디버그 셀 클릭)"
   ]
  },
  {
   "cell_type": "code",
   "execution_count": 18,
   "metadata": {},
   "outputs": [],
   "source": [
    "def add(x,y):\n",
    "    res = int(x) + int(y)\n",
    "    return res"
   ]
  },
  {
   "cell_type": "code",
   "execution_count": 19,
   "metadata": {},
   "outputs": [
    {
     "name": "stdout",
     "output_type": "stream",
     "text": [
      "더하기 결과는 114 입니다.\n"
     ]
    }
   ],
   "source": [
    "a,b = input('두 수를 입력(정수)').split(' ')\n",
    "result = add(a,b)\n",
    "print(f'더하기 결과는 {result} 입니다.')"
   ]
  }
 ],
 "metadata": {
  "kernelspec": {
   "display_name": "Python 3",
   "language": "python",
   "name": "python3"
  },
  "language_info": {
   "codemirror_mode": {
    "name": "ipython",
    "version": 3
   },
   "file_extension": ".py",
   "mimetype": "text/x-python",
   "name": "python",
   "nbconvert_exporter": "python",
   "pygments_lexer": "ipython3",
   "version": "3.12.2"
  }
 },
 "nbformat": 4,
 "nbformat_minor": 2
}
