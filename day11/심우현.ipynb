{
 "cells": [
  {
   "cell_type": "markdown",
   "metadata": {},
   "source": [
    "## 1번 문제"
   ]
  },
  {
   "cell_type": "code",
   "execution_count": 13,
   "metadata": {},
   "outputs": [
    {
     "name": "stdout",
     "output_type": "stream",
     "text": [
      "남성\n"
     ]
    }
   ],
   "source": [
    "var1 = input('입력형식 -> 000000-0000000 이렇게 입력하지 않을시 오류발생')\n",
    "if var1[7] in \"1,3,5\":\n",
    "    print('남성')\n",
    "elif var1[7] in \"2,4,6\":\n",
    "    print('여성')"
   ]
  },
  {
   "cell_type": "markdown",
   "metadata": {},
   "source": [
    "## 2번 문제"
   ]
  },
  {
   "cell_type": "code",
   "execution_count": 17,
   "metadata": {},
   "outputs": [
    {
     "name": "stdout",
     "output_type": "stream",
     "text": [
      "오늘은 수요일 입니다.\n",
      "오늘은 월요일 입니다.\n"
     ]
    }
   ],
   "source": [
    "var2 = input().upper()\n",
    "if var2 =='MON':\n",
    "    print('오늘은 월요일 입니다.')\n",
    "elif var2 == 'TUE':\n",
    "    print('오늘은 화요일 입니다.')\n",
    "elif var2 == 'WED':\n",
    "    print('오늘은 수요일 입니다.')\n",
    "elif var2 == 'TUR':\n",
    "    print('오늘은 목요일 입니다.')\n",
    "elif var2 == 'FRI':\n",
    "    print('오늘은 금요일 입니다.')\n",
    "elif var2 == 'SAT':\n",
    "    print('오늘은 토요일 입니다.')\n",
    "elif var2 == 'SUN':\n",
    "    print('오늘은 일요일 입니다.')\n",
    "else:\n",
    "    print('MON,TUE,WED,TUR,FRI,SAT,SUN 중에 입력하세요 대소문자는 상관없습니다.')\n",
    "\n",
    "vvar2 = ['MON','TUE','WED']\n",
    "vvar3 = ['월요일','화요일','수요일']\n",
    "a= input()\n",
    "if a in vvar2:\n",
    "    b = vvar2.index(a)\n",
    "    print('오늘은',vvar3[b],'입니다.')\n",
    "    \n",
    "\n"
   ]
  },
  {
   "cell_type": "markdown",
   "metadata": {},
   "source": [
    "## 3번 문제"
   ]
  },
  {
   "cell_type": "code",
   "execution_count": 12,
   "metadata": {},
   "outputs": [
    {
     "name": "stdout",
     "output_type": "stream",
     "text": [
      "0보다 큰수만 입력하세요\n"
     ]
    }
   ],
   "source": [
    "try:\n",
    "    var3=int(input('나이입력 >'))\n",
    "    if var3 < 0:\n",
    "        print('0보다 큰수만 입력하세요')\n",
    "    elif var3 <19:\n",
    "        print('애들은 가라')\n",
    "    else:\n",
    "        print('어서옵쇼, 손님!!')\n",
    "except:\n",
    "    print('숫자만 입력하세요')"
   ]
  },
  {
   "cell_type": "markdown",
   "metadata": {},
   "source": [
    "## 4번 문제"
   ]
  },
  {
   "cell_type": "code",
   "execution_count": 15,
   "metadata": {},
   "outputs": [],
   "source": [
    "var4 = 1\n",
    "f = open('./result.txt',mode= 'w')  # 다시열때는 백지로\n",
    "while var4 <=1000:\n",
    "    var4 = var4+1\n",
    "    if var4%3 == 0:\n",
    "        f = open('./result.txt',mode= 'a')\n",
    "        f.write(str(var4))\n",
    "        f.write('\\n')\n",
    "        f.close()   \n",
    "    elif var4%5 == 0:\n",
    "        f = open('./result.txt',mode= 'a')\n",
    "        f.write(str(var4))\n",
    "        f.write('\\n')\n",
    "        f.close()   \n",
    "f.close()  \n",
    "    \n"
   ]
  },
  {
   "cell_type": "markdown",
   "metadata": {},
   "source": [
    "## 5번 문제"
   ]
  },
  {
   "cell_type": "code",
   "execution_count": 16,
   "metadata": {},
   "outputs": [
    {
     "name": "stdout",
     "output_type": "stream",
     "text": [
      "2024\\03 % 07 17**21//13\n"
     ]
    }
   ],
   "source": [
    "import datetime\n",
    "\n",
    "date = datetime.datetime.now()\n",
    "print(f'{date.year}\\\\{date.month:02d} % {date.day:02d} {date.hour:02d}**{date.minute:02d}//{date.second}')\n",
    "\n"
   ]
  }
 ],
 "metadata": {
  "kernelspec": {
   "display_name": "Python 3",
   "language": "python",
   "name": "python3"
  },
  "language_info": {
   "codemirror_mode": {
    "name": "ipython",
    "version": 3
   },
   "file_extension": ".py",
   "mimetype": "text/x-python",
   "name": "python",
   "nbconvert_exporter": "python",
   "pygments_lexer": "ipython3",
   "version": "3.12.2"
  }
 },
 "nbformat": 4,
 "nbformat_minor": 2
}
